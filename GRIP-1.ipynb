{
 "cells": [
  {
   "cell_type": "code",
   "execution_count": 4,
   "id": "6f86c5b9",
   "metadata": {},
   "outputs": [
    {
     "name": "stdout",
     "output_type": "stream",
     "text": [
      "Predicted percentage for new student with 9.25 hours: 92.39\n",
      "R-squared score: 0.9678\n",
      "Mean squared error: 18.9432\n"
     ]
    }
   ],
   "source": [
    "# Import libraries\n",
    "import pandas as pd\n",
    "from sklearn.model_selection import train_test_split\n",
    "from sklearn.linear_model import LinearRegression\n",
    "from sklearn.metrics import r2_score, mean_squared_error\n",
    "\n",
    "# Load data\n",
    "data = pd.read_csv(\"https://raw.githubusercontent.com/AdiPersonalWorks/Random/master/student_scores%20-%20student_scores.csv\")  # Replace with your data file path\n",
    "\n",
    "# Extract features and target\n",
    "features = data[\"Hours\"]  # Replace with your study hours feature name\n",
    "target = data[\"Scores\"]  # Replace with your percentage feature name\n",
    "\n",
    "# Split data into training and testing sets\n",
    "X_train, X_test, y_train, y_test = train_test_split(features, target, test_size=0.2, random_state=42)\n",
    "\n",
    "# Train linear regression model\n",
    "model = LinearRegression()\n",
    "model.fit(X_train.values.reshape(-1, 1), y_train)\n",
    "\n",
    "# Predict percentage for new student\n",
    "new_student_hours = 9.25  # Replace with the study hours of a new student\n",
    "\n",
    "predicted_percentage = model.predict([[new_student_hours]])[0]\n",
    "\n",
    "# Evaluate model performance\n",
    "r2 = r2_score(y_test, model.predict(X_test.values.reshape(-1, 1)))\n",
    "mse = mean_squared_error(y_test, model.predict(X_test.values.reshape(-1, 1)))\n",
    "\n",
    "print(f\"Predicted percentage for new student with {new_student_hours} hours: {predicted_percentage:.2f}\")\n",
    "print(f\"R-squared score: {r2:.4f}\")\n",
    "print(f\"Mean squared error: {mse:.4f}\")\n",
    "\n"
   ]
  },
  {
   "cell_type": "code",
   "execution_count": null,
   "id": "4dc8a446",
   "metadata": {},
   "outputs": [],
   "source": []
  }
 ],
 "metadata": {
  "kernelspec": {
   "display_name": "Python 3 (ipykernel)",
   "language": "python",
   "name": "python3"
  },
  "language_info": {
   "codemirror_mode": {
    "name": "ipython",
    "version": 3
   },
   "file_extension": ".py",
   "mimetype": "text/x-python",
   "name": "python",
   "nbconvert_exporter": "python",
   "pygments_lexer": "ipython3",
   "version": "3.11.1"
  }
 },
 "nbformat": 4,
 "nbformat_minor": 5
}
